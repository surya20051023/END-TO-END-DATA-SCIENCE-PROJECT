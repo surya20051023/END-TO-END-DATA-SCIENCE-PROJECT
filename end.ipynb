# 1. Install & Import Libraries
import pandas as pd
import numpy as np
import matplotlib.pyplot as plt
import seaborn as sns
from sklearn.model_selection import train_test_split
from sklearn.preprocessing import LabelEncoder, StandardScaler
from sklearn.linear_model import LogisticRegression
from sklearn.metrics import accuracy_score, confusion_matrix, classification_report

# 2. Load dataset (Titanic data from seaborn)
df = sns.load_dataset("titanic")

print("First 5 rows:\n", df.head())
print("\nMissing values:\n", df.isnull().sum())

# 3. Data Preprocessing
# Select useful features
data = df[["survived", "pclass", "sex", "age", "fare", "embarked"]].dropna()

# Encode categorical features
le_sex = LabelEncoder()
le_embarked = LabelEncoder()
data["sex"] = le_sex.fit_transform(data["sex"])
data["embarked"] = le_embarked.fit_transform(data["embarked"])

# Split features and target
X = data.drop("survived", axis=1)
y = data["survived"]

# Train-test split
X_train, X_test, y_train, y_test = train_test_split(X, y, test_size=0.2, random_state=42)

# Scale numeric features
scaler = StandardScaler()
X_train = scaler.fit_transform(X_train)
X_test = scaler.transform(X_test)

# 4. Build & Train Model
model = LogisticRegression()
model.fit(X_train, y_train)

# 5. Evaluate
y_pred = model.predict(X_test)
print("\nAccuracy:", accuracy_score(y_test, y_pred))
print("\nClassification Report:\n", classification_report(y_test, y_pred))

# Confusion Matrix
cm = confusion_matrix(y_test, y_pred)
sns.heatmap(cm, annot=True, fmt="d", cmap="Blues",
            xticklabels=["Died", "Survived"],
            yticklabels=["Died", "Survived"])
plt.title("Confusion Matrix")
plt.show()

# 6. Visualizations
# Survival by Class and Sex
sns.barplot(x="pclass", y="survived", hue="sex", data=df)
plt.title("Survival Rate by Class & Sex")
plt.show()

# Age Distribution
sns.histplot(data=df, x="age", hue="survived", multiple="stack", bins=30)
plt.title("Age Distribution by Survival")
plt.show()
